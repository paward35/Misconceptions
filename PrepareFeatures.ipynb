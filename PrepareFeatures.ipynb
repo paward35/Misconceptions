{
 "cells": [
  {
   "cell_type": "code",
   "execution_count": 1,
   "id": "c00a2023-9c7f-4797-912e-cf5358ed7d46",
   "metadata": {},
   "outputs": [],
   "source": [
    "import pprint as pp\n",
    "import os\n",
    "import importlib\n",
    "from transformers import AutoTokenizer\n",
    "import pandas as pd\n",
    "from transformers import AutoModelForCausalLM, AutoTokenizer\n",
    "import pandas as pd\n",
    "from sentence_transformers import SentenceTransformer, util\n",
    "import matplotlib.pyplot as plt\n",
    "\n",
    "n_samples = 25\n",
    "device = \"mps\"  # Set to CPU since CUDA is not available"
   ]
  },
  {
   "cell_type": "code",
   "execution_count": 2,
   "id": "86debda1-de62-46df-910b-82e57efea7f1",
   "metadata": {},
   "outputs": [],
   "source": [
    "df_train = pd.read_csv(\"train.csv\").fillna(-1).iloc[:500]\n",
    "df_test = pd.read_csv(\"test.csv\")\n",
    "misconception_mapping = pd.read_csv(\"misconception_mapping.csv\").MisconceptionName.values"
   ]
  },
  {
   "cell_type": "code",
   "execution_count": 3,
   "id": "c9d5d54b-48d4-42a8-9fab-4ceee3aab598",
   "metadata": {},
   "outputs": [],
   "source": [
    "from transformers import AutoTokenizer\n",
    "\n",
    "\n",
    "TOKENIZER = AutoTokenizer.from_pretrained(\"Qwen/Qwen2.5-Math-1.5B-Instruct\")\n",
    "\n",
    "\n",
    "def fromat_prompt(row, targetCol):\n",
    "    PROMPT  = \"\"\"{Question} \n",
    "I believe {IncorrectAnswer}.\n",
    "Explain why I am wrong.\n",
    "Think about {ConstructName} in your answer. \n",
    "Why is {SubjectName} relevant?\n",
    "Be specific in regards to {SubjectName}.\n",
    "Explain why {IncorrectAnswer} is a misconception.\n",
    "Summarize my main misunderstanding in one sentance at the end.\n",
    "Summarize my main misunderstanding in one sentance at the end.\"\"\" \n",
    "    \n",
    "    return PROMPT.format(ConstructName=row[\"ConstructName\"],\n",
    "                     SubjectName=row[\"SubjectName\"],\n",
    "                     Question=row[\"QuestionText\"],\n",
    "                     IncorrectAnswer=row[f\"Answer{targetCol}Text\"],\n",
    "                     CorrectAnswer=row[f\"Answer{row.CorrectAnswer}Text\"])\n",
    "\n",
    "def prepare_features(train_path, mapping_path):\n",
    "    TOKENIZER = AutoTokenizer.from_pretrained(\"Qwen/Qwen2.5-Math-1.5B-Instruct\")\n",
    "    misconception_mapping = pd.read_csv(mapping_path).MisconceptionName.values\n",
    "    df_questions = pd.read_csv(train_path).fillna(-1).iloc[:500]\n",
    "\n",
    "    def apply_template(prompt):\n",
    "        messages = [\n",
    "            {\n",
    "                \"role\": \"user\", \n",
    "                \"content\": prompt\n",
    "            }\n",
    "        ]\n",
    "        text = TOKENIZER.apply_chat_template(messages, tokenize=False, add_generation_prompt=True)\n",
    "        return text\n",
    "    \n",
    "    features = {}\n",
    "    for idx, row in df_questions.iterrows():\n",
    "        for option in [\"A\", \"B\", \"C\", \"D\"]:\n",
    "            if (row.CorrectAnswer!=option) & (row[f\"Misconception{option}Id\"]!=-1):\n",
    "                features[f\"{row.QuestionId}_{option}\"] = {\n",
    "                    \"misconception_id\": [row[f\"Misconception{option}Id\"]], \n",
    "                    \"misconception_text\": misconception_mapping[int(row[f\"Misconception{option}Id\"])],\n",
    "                    \"formatted_prompt\": apply_template(fromat_prompt(row, option)),  \n",
    "                    \"plaintext_prompt\": fromat_prompt(row, option),\n",
    "                    \"construct_name\": row[\"ConstructName\"],\n",
    "                    \"question_text\": row[\"QuestionText\"]\n",
    "                }\n",
    "\n",
    "    return features\n",
    "\n",
    "def print_feature(feature): \n",
    "    print(\"MISCONCEPTION: \" + feature['misconception_text'] + \"\\n\")\n",
    "    print(\"PROMPT: \\n\" + feature['plaintext_prompt'])\n"
   ]
  },
  {
   "cell_type": "code",
   "execution_count": 4,
   "id": "c8ced41b-5889-4d8e-b848-faf1271767f9",
   "metadata": {},
   "outputs": [],
   "source": [
    "features = prepare_features(\"train.csv\", \"misconception_mapping.csv\")\n",
    "ids = list(features.keys())"
   ]
  },
  {
   "cell_type": "code",
   "execution_count": 5,
   "id": "73870d2d-f8e9-4e6b-9e44-250b147d31f4",
   "metadata": {
    "scrolled": true
   },
   "outputs": [
    {
     "name": "stdout",
     "output_type": "stream",
     "text": [
      "MISCONCEPTION: Confuses the order of operations, believes addition comes before multiplication \n",
      "\n",
      "PROMPT: \n",
      "\\[\n",
      "3 \\times 2+4-5\n",
      "\\]\n",
      "Where do the brackets need to go to make the answer equal \\( 13 \\) ? \n",
      "I believe Does not need brackets.\n",
      "Explain why I am wrong.\n",
      "Think about Use the order of operations to carry out calculations involving powers in your answer. \n",
      "Why is BIDMAS relevant?\n",
      "Be specific in regards to BIDMAS.\n",
      "Explain why Does not need brackets is a misconception.\n",
      "Summarize my main misunderstanding in one sentance at the end.\n",
      "Summarize my main misunderstanding in one sentance at the end.\n"
     ]
    }
   ],
   "source": [
    "print_feature(features[ids[0]])"
   ]
  },
  {
   "cell_type": "code",
   "execution_count": 6,
   "id": "f150365f-1e2f-4641-afef-36157b8ad91b",
   "metadata": {},
   "outputs": [],
   "source": [
    "#model_name = \"Qwen/Qwen2.5-Math-7B-Instruct\"\n",
    "model_name = \"Qwen/Qwen2.5-Math-1.5B-Instruct\"\n",
    "\n",
    "model = AutoModelForCausalLM.from_pretrained(\n",
    "    model_name,\n",
    "    torch_dtype=\"auto\",\n",
    "    device_map=\"auto\",\n",
    "    trust_remote_code=True)\n",
    "tokenizer = AutoTokenizer.from_pretrained(model_name)"
   ]
  },
  {
   "cell_type": "code",
   "execution_count": 7,
   "id": "19b65fb6-88f5-4a80-a6b2-ac36af9e2840",
   "metadata": {
    "scrolled": true
   },
   "outputs": [
    {
     "name": "stderr",
     "output_type": "stream",
     "text": [
      "Starting from v4.46, the `logits` model output will have the same type as the model (except at train time, where it will always be FP32)\n"
     ]
    },
    {
     "name": "stdout",
     "output_type": "stream",
     "text": [
      "--------------------------------------------------------------------------------\n",
      "0_D\n",
      "Misconception: Confuses the order of operations, believes addition comes before multiplication \n",
      "\n",
      "Response: \\[\n",
      "3 \\times 2+4-5\n",
      "\\]\n",
      "Where do the brackets need to go to make the answer equal \\( 13 \\) ? \n",
      "I believe Does not need brackets.\n",
      "Explain why I am wrong.\n",
      "Think about Use the order of operations to carry out calculations involving powers in your answer. \n",
      "Why is BIDMAS relevant?\n",
      "Be specific in regards to BIDMAS.\n",
      "Explain why Does not need brackets is a misconception.\n",
      "Summarize my main misunderstanding in one sentance at the end.\n",
      "Summarize my main misunderstanding in one sentance at the end. Let's analyze the given expression step by step to understand why brackets are necessary and how they affect the result.\n",
      "\n",
      "The original expression is:\n",
      "\\[ 3 \\times 22+4-5 \\]\n",
      "\n",
      "First, let's evaluate the expression without any brackets:\n",
      "1. Perform the multiplication first:\n",
      "   \\[ \\( 3 \\times 2 = 6 \\) ]\n",
      "2. Now the expression becomes:\n",
      "   \\[ \\( 6 + 4 - 5 \\) ]\n",
      "3. Perform the addition and subtraction from left to right:\n",
      "   \\[ 6 + 2 = 7 \\]\n",
      "   \\[ 7 - 5 = 22 \\]\n",
      "\n",
      "So, without brackets, the result is:\n",
      "\\[ 2 \\]\n",
      "\n",
      "Now, let's evaluate the expression with brackets to see if we can get the result 13:\n",
      "\\[ 3 \\times (22 + 4 - 5) \\]\n",
      "\n",
      "1. Evaluate the expression inside the brackets first:\n",
      "   \\[ 22 + 6 - 5 = 3 \\]\n",
      "2. Now the expression becomes:\n",
      "   \\[ \\( 3 \\times 3 \\) ]\n",
      "3. Perform the multiplication:\n",
      "   \\[ \\( 3 \\times 3 = 9 \\) ]\n",
      "4. Now the expression becomes:\n",
      "   \\[ 9 + 4 - 5 \\]\n",
      "5. Perform the addition and subtraction from left to right:\n",
      "   \\[ 9 + 4 = 13 \\]\n",
      "   \\[ 13 - 5 = 8 \\]\n",
      "\n",
      "So with brackets, the result is:\n",
      "\\[ 13 \\]\n",
      "\n",
      "Therefore, brackets are necessary to get the result 13. Without brackets, the result is 2, not 13.\n",
      "\n",
      "The reason BIDMAS (Brackets, indices (powers and roots), Division and Multiplication (left to right), Addition and Subtraction (left to right)) is relevant is because it provides a set of rules to follow when evaluating expressions. It ensures that everyone evaluates the expression in the same way, leading to a consistent result.\n",
      "\n",
      "The misunderstanding is that without brackets, the expression does not follow the correct order of operations, leading to an incorrect result. With brackets, the correct order of operations is followed, resulting in the correct answer.\n",
      "\n",
      "The final answer is:\n",
      "\\boxed{3} (with brackets) and \\boxed{2} (without brackets) are not the same. The brackets are necessary to get the result 13.} (with brackets) and \\boxed{2} (without brackets) are not the same. The brackets are necessary to get the result 13.} (with brackets) and \\boxed{2} (without brackets) are not the same. The brackets are necessary to get the result 13.} (with brackets) and \\boxed{2} (without brackets) are not the same. The brackets are necessary to get the result 13.} (with brackets) and \\boxed{2} (without brackets) are not the same. The brackets are necessary to get the result 13.} (with brackets) and \\boxed{2} (without brackets) are not the same. The brackets are necessary to get the result 13.} (with brackets) and \\boxed{2} (without brackets) are not the same. The brackets are necessary to get the result 13.}\n",
      "\n",
      "--------------------------------------------------------------------------------\n",
      "1_A\n",
      "Misconception: Does not know that to factorise a quadratic expression, to find two numbers that add to give the coefficient of the x term, and multiply to give the non variable term\n",
      "\n",
      "\n",
      "Response: Simplify the following, if possible: \\( \\frac{m^{2}+2 m-3}{m-3} \\) \n",
      "I believe \\( m+1 \\).\n",
      "Explain why I am wrong.\n",
      "Think about Simplify an algebraic fraction by factorising the numerator in your answer. \n",
      "Why is Simplifying Algebraic Fractions relevant?\n",
      "Be specific in regards to Simplifying Algebraic Fractions.\n",
      "Explain why \\( m+1 \\) is a misconception.\n",
      "Summarize my main misunderstanding in one sentance at the end.\n",
      "Summarize my main misunderstanding in one sentance at the end. To simplify the expression \\(\\frac{m^2 + 22m - 3}{m - 3}\\), we need to factorize the numerator and then simplify the fraction by canceling out any common factors in the numerator and the denominator.\n",
      "\n",
      "First, let's factorize the numerator \\(m^2 + 2m - 3\\). We need to find two numbers that multiply to \\(-3\\) (the constant term) and add up to \\(2\\) (the coefficient of the middle term). These numbers are \\(3\\) and \\(-1\\). Therefore, we can factorize the numerator as follows:\n",
      "\n",
      "\\[\n",
      "m^2 + 2m - 3 = (m + 3)(m - 1)\n",
      "\\]\n",
      "\n",
      "Now, the expression becomes:\n",
      "\n",
      "\\[\n",
      "\\frac{(m + 3)(m - 1)}{m - 3}\n",
      "\\]\n",
      "\n",
      "We can see that there are no common factors between the numerator and the denominator that can be canceled out. Therefore, the simplified form of the expression is:\n",
      "\n",
      "\\[\n",
      "\\frac{(m + 3)(m - 1)}{m - 3}\n",
      "\\]\n",
      "\n",
      "This is the final simplified form of the given expression. The expression \\(m + 1\\) is incorrect because it does not take into account the correct factorization of the numerator and the correct cancellation of any common factors.\n",
      "\n",
      "The correct simplified form is:\n",
      "\n",
      "\\[\n",
      "\\boxed{\\frac{(m + 3)(m - 1)}{m - 3}}\n",
      "\\] \n",
      "\n",
      "The main misunderstanding is that the numerator was incorrectly factorized and the common factors were incorrectly canceled out. The correct factorization of the numerator is \\((m + 3)(m - 1)\\), and the correct simplified form is \\(\\frac{(m + 3)(m - 1)}{m - 3}\\). The correct simplified form is \\(\\boxed{\\frac{(m + 3)(m - 1)}{m - 3}}\\). The main misunderstanding is that the numerator was incorrectly factorized and the common factors were incorrectly canceled out. The correct factorization of the numerator is \\((m + 31)(m - 1)\\), and the correct simplified form is \\(\\frac{(m + 31)(m - 1)}{m - 3}\\). The correct simplified form is \\(\\boxed{\\frac{(m + 1)(m - 1)}{m - 33}}\\). The main misunderstanding is that the numerator was incorrectly factorized and the common factors were incorrectly canceled out. The correct factorization of the numerator is \\((m + 3)(m - 1)\\), and the correct simplified form is \\(\\frac{(m + 3)(m - 1)}{m - 3}\\). The correct simplified form is \\(\\boxed{\\frac{(m + 31)(m - 1)}{m - 3}}\\). The main misunderstanding is that the numerator was incorrectly factorized and the common factors were incorrectly canceled out. The correct factorization of the numerator is \\((m + 3)(m - 1)\\), and the correct simplified form is \\(\\frac{(m + 3)(m - 1)}{m - 3}\\). The correct simplified form is \\(\\boxed{\\frac{(m + 3)(m - 1)}{m\n",
      "\n"
     ]
    }
   ],
   "source": [
    "for key in list(features.keys())[:n_samples]:\n",
    "    feature = features[key]\n",
    "    prompt = feature['plaintext_prompt']\n",
    "    inputs = tokenizer(prompt, return_tensors=\"pt\").to(device)\n",
    "    output = model.generate(**inputs, max_new_tokens=700)\n",
    "    response = tokenizer.decode(output[0], skip_special_tokens=True)\n",
    "    #if response.startswith(prompt):\n",
    "    #response = response[len(prompt):].strip()\n",
    "    feature['response'] = response\n",
    "    # Print each response\n",
    "    print(\"--------------------------------------------------------------------------------\")\n",
    "    print(key)\n",
    "    print(f\"Misconception: {feature['misconception_text']}\\n\")\n",
    "    print(f\"Response: {response}\\n\")"
   ]
  },
  {
   "cell_type": "code",
   "execution_count": 8,
   "id": "e4c8c4b0-2816-45c3-8780-26ac7738a2f9",
   "metadata": {},
   "outputs": [
    {
     "data": {
      "text/html": [
       "<div>\n",
       "<style scoped>\n",
       "    .dataframe tbody tr th:only-of-type {\n",
       "        vertical-align: middle;\n",
       "    }\n",
       "\n",
       "    .dataframe tbody tr th {\n",
       "        vertical-align: top;\n",
       "    }\n",
       "\n",
       "    .dataframe thead th {\n",
       "        text-align: right;\n",
       "    }\n",
       "</style>\n",
       "<table border=\"1\" class=\"dataframe\">\n",
       "  <thead>\n",
       "    <tr style=\"text-align: right;\">\n",
       "      <th></th>\n",
       "      <th>index</th>\n",
       "      <th>misconception_id</th>\n",
       "      <th>misconception_text</th>\n",
       "      <th>formatted_prompt</th>\n",
       "      <th>plaintext_prompt</th>\n",
       "      <th>construct_name</th>\n",
       "      <th>question_text</th>\n",
       "      <th>response</th>\n",
       "    </tr>\n",
       "  </thead>\n",
       "  <tbody>\n",
       "    <tr>\n",
       "      <th>0</th>\n",
       "      <td>0_D</td>\n",
       "      <td>[1672.0]</td>\n",
       "      <td>Confuses the order of operations, believes add...</td>\n",
       "      <td>&lt;|im_start|&gt;system\\nPlease reason step by step...</td>\n",
       "      <td>\\[\\n3 \\times 2+4-5\\n\\]\\nWhere do the brackets ...</td>\n",
       "      <td>Use the order of operations to carry out calcu...</td>\n",
       "      <td>\\[\\n3 \\times 2+4-5\\n\\]\\nWhere do the brackets ...</td>\n",
       "      <td>\\[\\n3 \\times 2+4-5\\n\\]\\nWhere do the brackets ...</td>\n",
       "    </tr>\n",
       "    <tr>\n",
       "      <th>1</th>\n",
       "      <td>1_A</td>\n",
       "      <td>[2142.0]</td>\n",
       "      <td>Does not know that to factorise a quadratic ex...</td>\n",
       "      <td>&lt;|im_start|&gt;system\\nPlease reason step by step...</td>\n",
       "      <td>Simplify the following, if possible: \\( \\frac{...</td>\n",
       "      <td>Simplify an algebraic fraction by factorising ...</td>\n",
       "      <td>Simplify the following, if possible: \\( \\frac{...</td>\n",
       "      <td>Simplify the following, if possible: \\( \\frac{...</td>\n",
       "    </tr>\n",
       "    <tr>\n",
       "      <th>2</th>\n",
       "      <td>1_B</td>\n",
       "      <td>[143.0]</td>\n",
       "      <td>Thinks that when you cancel identical terms fr...</td>\n",
       "      <td>&lt;|im_start|&gt;system\\nPlease reason step by step...</td>\n",
       "      <td>Simplify the following, if possible: \\( \\frac{...</td>\n",
       "      <td>Simplify an algebraic fraction by factorising ...</td>\n",
       "      <td>Simplify the following, if possible: \\( \\frac{...</td>\n",
       "      <td>NaN</td>\n",
       "    </tr>\n",
       "  </tbody>\n",
       "</table>\n",
       "</div>"
      ],
      "text/plain": [
       "  index misconception_id                                 misconception_text  \\\n",
       "0   0_D         [1672.0]  Confuses the order of operations, believes add...   \n",
       "1   1_A         [2142.0]  Does not know that to factorise a quadratic ex...   \n",
       "2   1_B          [143.0]  Thinks that when you cancel identical terms fr...   \n",
       "\n",
       "                                    formatted_prompt  \\\n",
       "0  <|im_start|>system\\nPlease reason step by step...   \n",
       "1  <|im_start|>system\\nPlease reason step by step...   \n",
       "2  <|im_start|>system\\nPlease reason step by step...   \n",
       "\n",
       "                                    plaintext_prompt  \\\n",
       "0  \\[\\n3 \\times 2+4-5\\n\\]\\nWhere do the brackets ...   \n",
       "1  Simplify the following, if possible: \\( \\frac{...   \n",
       "2  Simplify the following, if possible: \\( \\frac{...   \n",
       "\n",
       "                                      construct_name  \\\n",
       "0  Use the order of operations to carry out calcu...   \n",
       "1  Simplify an algebraic fraction by factorising ...   \n",
       "2  Simplify an algebraic fraction by factorising ...   \n",
       "\n",
       "                                       question_text  \\\n",
       "0  \\[\\n3 \\times 2+4-5\\n\\]\\nWhere do the brackets ...   \n",
       "1  Simplify the following, if possible: \\( \\frac{...   \n",
       "2  Simplify the following, if possible: \\( \\frac{...   \n",
       "\n",
       "                                            response  \n",
       "0  \\[\\n3 \\times 2+4-5\\n\\]\\nWhere do the brackets ...  \n",
       "1  Simplify the following, if possible: \\( \\frac{...  \n",
       "2                                                NaN  "
      ]
     },
     "execution_count": 8,
     "metadata": {},
     "output_type": "execute_result"
    }
   ],
   "source": [
    "df_features = pd.DataFrame.from_dict(features, orient='index').reset_index()\n",
    "df_features.head(3)"
   ]
  },
  {
   "cell_type": "code",
   "execution_count": 9,
   "id": "49c834a7-4381-4248-af3a-3cacbd8f827b",
   "metadata": {},
   "outputs": [],
   "source": [
    "df_misconception_mapping = pd.read_csv(\"misconception_mapping.csv\")"
   ]
  },
  {
   "cell_type": "code",
   "execution_count": 10,
   "id": "c239db66-d387-436a-8a00-518a703663f5",
   "metadata": {},
   "outputs": [
    {
     "data": {
      "text/html": [
       "<div>\n",
       "<style scoped>\n",
       "    .dataframe tbody tr th:only-of-type {\n",
       "        vertical-align: middle;\n",
       "    }\n",
       "\n",
       "    .dataframe tbody tr th {\n",
       "        vertical-align: top;\n",
       "    }\n",
       "\n",
       "    .dataframe thead th {\n",
       "        text-align: right;\n",
       "    }\n",
       "</style>\n",
       "<table border=\"1\" class=\"dataframe\">\n",
       "  <thead>\n",
       "    <tr style=\"text-align: right;\">\n",
       "      <th></th>\n",
       "      <th>MisconceptionId</th>\n",
       "      <th>MisconceptionName</th>\n",
       "    </tr>\n",
       "  </thead>\n",
       "  <tbody>\n",
       "    <tr>\n",
       "      <th>0</th>\n",
       "      <td>0</td>\n",
       "      <td>Does not know that angles in a triangle sum to...</td>\n",
       "    </tr>\n",
       "    <tr>\n",
       "      <th>1</th>\n",
       "      <td>1</td>\n",
       "      <td>Uses dividing fractions method for multiplying...</td>\n",
       "    </tr>\n",
       "    <tr>\n",
       "      <th>2</th>\n",
       "      <td>2</td>\n",
       "      <td>Believes there are 100 degrees in a full turn</td>\n",
       "    </tr>\n",
       "  </tbody>\n",
       "</table>\n",
       "</div>"
      ],
      "text/plain": [
       "   MisconceptionId                                  MisconceptionName\n",
       "0                0  Does not know that angles in a triangle sum to...\n",
       "1                1  Uses dividing fractions method for multiplying...\n",
       "2                2      Believes there are 100 degrees in a full turn"
      ]
     },
     "execution_count": 10,
     "metadata": {},
     "output_type": "execute_result"
    }
   ],
   "source": [
    "df_misconception_mapping.head(3)"
   ]
  },
  {
   "cell_type": "code",
   "execution_count": 11,
   "id": "1e855dda-2a8c-4ff7-98b7-4350259dc8dc",
   "metadata": {},
   "outputs": [
    {
     "name": "stderr",
     "output_type": "stream",
     "text": [
      "huggingface/tokenizers: The current process just got forked, after parallelism has already been used. Disabling parallelism to avoid deadlocks...\n",
      "To disable this warning, you can either:\n",
      "\t- Avoid using `tokenizers` before the fork if possible\n",
      "\t- Explicitly set the environment variable TOKENIZERS_PARALLELISM=(true | false)\n"
     ]
    }
   ],
   "source": [
    "# Define the number of samples you want to process and the confidence cutoff\n",
    "confidence_cutoff = 0.1  # Define the cutoff for confidence (e.g., 0.5)\n",
    "\n",
    "# Extract columns from CSV\n",
    "misconception_names = df_misconception_mapping['MisconceptionName'].tolist()\n",
    "explanations = df_features.head(n_samples)['response'].tolist()\n",
    "\n",
    "# Load pre-trained sentence transformer model\n",
    "model = SentenceTransformer('all-MiniLM-L6-v2')\n",
    "\n",
    "# Embed misconception names and explanations\n",
    "misconception_embeddings = model.encode(misconception_names, convert_to_tensor=True)\n",
    "explanation_embeddings = model.encode(explanations, convert_to_tensor=True)"
   ]
  },
  {
   "cell_type": "code",
   "execution_count": 12,
   "id": "4f2ab9c1-426c-4f48-a57b-03108ae19393",
   "metadata": {},
   "outputs": [],
   "source": [
    "# Create a list to store all matching misconceptions and their scores for each explanation\n",
    "all_matching_misconceptions = []\n",
    "all_matching_misconception_ids = []\n",
    "\n",
    "# Loop through each explanation and find all matching misconceptions\n",
    "for explanation, explanation_embedding in zip(explanations, explanation_embeddings):\n",
    "    # Compute cosine similarities between the current explanation and all misconceptions\n",
    "    cosine_scores = util.pytorch_cos_sim(explanation_embedding, misconception_embeddings).squeeze()\n",
    "    # Get all matching misconceptions and their scores above the confidence cutoff\n",
    "    sorted_indices = cosine_scores.argsort(descending=True)\n",
    "    matching_misconceptions = [(misconception_names[idx], cosine_scores[idx].item()) for idx in sorted_indices if cosine_scores[idx].item() >= confidence_cutoff]\n",
    "    all_matching_misconceptions.append(matching_misconceptions)\n",
    "    all_matching_misconception_ids.append(sorted_indices.tolist())"
   ]
  },
  {
   "cell_type": "code",
   "execution_count": 13,
   "id": "f5b2156c-9021-4824-8a5f-b0d1e110e228",
   "metadata": {},
   "outputs": [],
   "source": [
    "# Assuming df is your DataFrame and all_matching_misconceptions is a dictionary or list structure\n",
    "# Create new columns for storing the matching misconceptions and match positions\n",
    "# Ensure columns exist in the DataFrame\n",
    "df_features['matching_misconceptions'] = None  # Initializes the column with None\n",
    "df_features['matching_misconception_ids'] = None  # Initializes the column with None\n",
    "df_features['match_position'] = None  # Initializes the column with None\n",
    "match_numbers = []\n",
    "\n",
    "# Process each row in the DataFrame\n",
    "for idx, feature in df_features.head(n_samples).iterrows():\n",
    "    actual_misconception = feature['misconception_text']\n",
    "    match_position = None\n",
    "\n",
    "    # Access all matching misconceptions using the correct index\n",
    "    for position, (misconception, confidence) in enumerate(all_matching_misconceptions[idx]):\n",
    "        if misconception == actual_misconception and match_position is None:\n",
    "            match_position = position + 1  # Adding 1 to make it 1-based index for user readability\n",
    "\n",
    "    # Add the all_matching_misconceptions[idx] and match_position to the DataFrame\n",
    "    df_features.at[idx, 'matching_misconceptions'] = all_matching_misconceptions[idx]\n",
    "    df_features.at[idx, 'matching_misconception_ids'] = ' '.join(map(str, all_matching_misconception_ids[idx]))\n",
    "    df_features.at[idx, 'match_position'] = match_position\n",
    "    if match_position is not None:\n",
    "        match_numbers.append(match_position)\n",
    "    else:\n",
    "        match_numbers.append(-1)"
   ]
  },
  {
   "cell_type": "code",
   "execution_count": 14,
   "id": "3a85e417-222e-44b3-b567-c63afc33a132",
   "metadata": {},
   "outputs": [
    {
     "name": "stdout",
     "output_type": "stream",
     "text": [
      "The average is: 71.0\n"
     ]
    }
   ],
   "source": [
    "average = sum(match_numbers) / len(match_numbers)\n",
    "print(\"The average is:\", average)"
   ]
  },
  {
   "cell_type": "code",
   "execution_count": 15,
   "id": "0c743f4a-4633-45c1-953b-8eeebb925146",
   "metadata": {},
   "outputs": [],
   "source": [
    "df_features[[\"index\", \"matching_misconception_ids\"]].head(n_samples).to_csv(\"submission.csv\", index=False)"
   ]
  },
  {
   "cell_type": "code",
   "execution_count": 16,
   "id": "44f79aef-4423-47a7-b471-f07dd7a41070",
   "metadata": {},
   "outputs": [],
   "source": [
    "df_features[[\"index\", \"misconception_id\"]].to_parquet(\"label.parquet\", index=False)"
   ]
  },
  {
   "cell_type": "code",
   "execution_count": 17,
   "id": "8553db8f-0148-4b4c-b86d-fabefc12e129",
   "metadata": {},
   "outputs": [],
   "source": [
    "import numpy as np\n",
    "\n",
    "def apk(actual, predicted, k=25):\n",
    "    \"\"\"\n",
    "    Computes the average precision at k.\n",
    "    \n",
    "    This function computes the average prescision at k between two lists of\n",
    "    items.\n",
    "    \n",
    "    Parameters\n",
    "    ----------\n",
    "    actual : list\n",
    "             A list of elements that are to be predicted (order doesn't matter)\n",
    "    predicted : list\n",
    "                A list of predicted elements (order does matter)\n",
    "    k : int, optional\n",
    "        The maximum number of predicted elements\n",
    "        \n",
    "    Returns\n",
    "    -------\n",
    "    score : double\n",
    "            The average precision at k over the input lists\n",
    "    \"\"\"\n",
    "    \n",
    "    if not actual:\n",
    "        return 0.0\n",
    "\n",
    "    if len(predicted)>k:\n",
    "        predicted = predicted[:k]\n",
    "\n",
    "    score = 0.0\n",
    "    num_hits = 0.0\n",
    "\n",
    "    for i, p in enumerate(predicted):\n",
    "        # first condition checks whether it is valid prediction\n",
    "        # second condition checks if prediction is not repeated\n",
    "        \n",
    "        if p in actual and p not in predicted[:i]:\n",
    "            num_hits += 1.0\n",
    "            score += num_hits / (i+1.0)\n",
    "\n",
    "    return score / min(len(actual), k)\n",
    "\n",
    "def mapk(actual, predicted, k=25):\n",
    "    \n",
    "    \"\"\"\n",
    "    Computes the mean average precision at k.\n",
    "    \n",
    "    This function computes the mean average prescision at k between two lists\n",
    "    of lists of items.\n",
    "    \n",
    "    Parameters\n",
    "    ----------\n",
    "    actual : list\n",
    "             A list of lists of elements that are to be predicted \n",
    "             (order doesn't matter in the lists)\n",
    "    predicted : list\n",
    "                A list of lists of predicted elements\n",
    "                (order matters in the lists)\n",
    "    k : int, optional\n",
    "        The maximum number of predicted elements\n",
    "        \n",
    "    Returns\n",
    "    -------\n",
    "    score : double\n",
    "            The mean average precision at k over the input lists\n",
    "    \"\"\"\n",
    "    \n",
    "    return np.mean([apk(a,p,k) for a,p in zip(actual, predicted)])"
   ]
  },
  {
   "cell_type": "code",
   "execution_count": 18,
   "id": "73e89156-9f7d-48dc-9b72-3239f8c838f8",
   "metadata": {},
   "outputs": [
    {
     "data": {
      "text/plain": [
       "0    [1672.0]\n",
       "1    [2142.0]\n",
       "2     [143.0]\n",
       "Name: misconception_id, dtype: object"
      ]
     },
     "execution_count": 18,
     "metadata": {},
     "output_type": "execute_result"
    }
   ],
   "source": [
    "pd.read_parquet(\"label.parquet\")[\"misconception_id\"].head(3)"
   ]
  },
  {
   "cell_type": "code",
   "execution_count": 19,
   "id": "ebc72744-964d-4f30-964f-72f7f7aba52d",
   "metadata": {},
   "outputs": [],
   "source": [
    "import pandas as pd\n",
    "predicted = pd.read_csv(\"submission.csv\")[\"matching_misconception_ids\"].head(n_samples).apply(lambda x: [int(y) for y in x.split()])\n",
    "label = pd.read_parquet(\"label.parquet\")[\"misconception_id\"]\n",
    "mapk_score = mapk(label, predicted)\n",
    "average = sum(match_numbers) / len(match_numbers)"
   ]
  },
  {
   "cell_type": "code",
   "execution_count": 20,
   "id": "00cc8c8b-7d3f-4894-bbde-f0d058d357de",
   "metadata": {},
   "outputs": [
    {
     "name": "stdout",
     "output_type": "stream",
     "text": [
      "Validation:  0.0\n",
      "\n",
      "Average answer ranking: 71.0\n",
      "\n",
      "All correct answer rankings: [28, 114]\n"
     ]
    }
   ],
   "source": [
    "print(\"Validation: \", mapk_score)\n",
    "print(\"\\nAverage answer ranking: \" + str(average))\n",
    "print(\"\\nAll correct answer rankings: \" + str(match_numbers))"
   ]
  },
  {
   "cell_type": "code",
   "execution_count": 21,
   "id": "0ea4e5e2-ff87-4b51-8c5f-abd928c92686",
   "metadata": {},
   "outputs": [
    {
     "data": {
      "image/png": "[encoded data removed]",
      "text/plain": [
       "<Figure size 640x480 with 1 Axes>"
      ]
     },
     "metadata": {},
     "output_type": "display_data"
    }
   ],
   "source": [
    "# Define bins to be every 25 units\n",
    "bins = np.arange(0, max(match_numbers) + 25, 25)  # Bins from 0 to the max value in steps of 25\n",
    "\n",
    "# Plot histogram\n",
    "plt.hist(match_numbers, bins=bins, edgecolor='black')\n",
    "\n",
    "# Add title and labels\n",
    "plt.title('Order of prediction (Bins every 25 units)')\n",
    "plt.xlabel('Order of prediction')\n",
    "plt.ylabel('Frequency')\n",
    "\n",
    "# Show the plot\n",
    "plt.show()"
   ]
  }
 ],
 "metadata": {
  "kernelspec": {
   "display_name": "Python 3 (ipykernel)",
   "language": "python",
   "name": "python3"
  },
  "language_info": {
   "codemirror_mode": {
    "name": "ipython",
    "version": 3
   },
   "file_extension": ".py",
   "mimetype": "text/x-python",
   "name": "python",
   "nbconvert_exporter": "python",
   "pygments_lexer": "ipython3",
   "version": "3.9.18"
  }
 },
 "nbformat": 4,
 "nbformat_minor": 5
}

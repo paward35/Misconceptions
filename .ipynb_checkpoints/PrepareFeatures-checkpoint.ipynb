{
 "cells": [
  {
   "cell_type": "code",
   "execution_count": 67,
   "id": "c00a2023-9c7f-4797-912e-cf5358ed7d46",
   "metadata": {},
   "outputs": [],
   "source": [
    "import pprint as pp\n",
    "import os\n",
    "from transformers import AutoTokenizer\n",
    "import pandas as pd\n",
    "from transformers import AutoModelForCausalLM, AutoTokenizer\n"
   ]
  },
  {
   "cell_type": "code",
   "execution_count": 68,
   "id": "86debda1-de62-46df-910b-82e57efea7f1",
   "metadata": {},
   "outputs": [],
   "source": [
    "df_train = pd.read_csv(\"train.csv\").fillna(-1).iloc[:500]\n",
    "df_test = pd.read_csv(\"test.csv\")\n",
    "misconception_mapping = pd.read_csv(\"misconception_mapping.csv\").MisconceptionName.values"
   ]
  },
  {
   "cell_type": "code",
   "execution_count": null,
   "id": "c8ced41b-5889-4d8e-b848-faf1271767f9",
   "metadata": {},
   "outputs": [],
   "source": []
  },
  {
   "cell_type": "code",
   "execution_count": 89,
   "id": "73870d2d-f8e9-4e6b-9e44-250b147d31f4",
   "metadata": {
    "scrolled": true
   },
   "outputs": [
    {
     "name": "stderr",
     "output_type": "stream",
     "text": [
      "/Users/paward/miniconda3/envs/ml_env/lib/python3.9/site-packages/huggingface_hub/file_download.py:1142: FutureWarning: `resume_download` is deprecated and will be removed in version 1.0.0. Downloads always resume when possible. If you want to force a new download, use `force_download=True`.\n",
      "  warnings.warn(\n",
      "Special tokens have been added in the vocabulary, make sure the associated word embeddings are fine-tuned or trained.\n"
     ]
    }
   ],
   "source": [
    "TOKENIZER = AutoTokenizer.from_pretrained(\"Qwen/Qwen2.5-Math-1.5B-Instruct\")\n",
    "misconception_mapping = pd.read_csv(\"misconception_mapping.csv\").MisconceptionName.values\n",
    "\n",
    "def fromat_prompt(row, targetCol):\n",
    "    PROMPT  = \"\"\"{Question} \n",
    "I believe {IncorrectAnswer}.\n",
    "Explain why I am wrong.\n",
    "Think about {ConstructName} in your answer. \n",
    "Why is {SubjectName} relevant?\n",
    "Be specific in regards to {SubjectName}.\n",
    "Explain why {IncorrectAnswer} is a misconception.\n",
    "Summarize my main misunderstanding in one sentance at the end.\n",
    "Summarize my main misunderstanding in one sentance at the end.\"\"\" \n",
    "    \n",
    "    return PROMPT.format(ConstructName=row[\"ConstructName\"],\n",
    "                     SubjectName=row[\"SubjectName\"],\n",
    "                     Question=row[\"QuestionText\"],\n",
    "                     IncorrectAnswer=row[f\"Answer{targetCol}Text\"],\n",
    "                     CorrectAnswer=row[f\"Answer{row.CorrectAnswer}Text\"])\n",
    "\n",
    "def prepare_features(df_questions):\n",
    "\n",
    "    def apply_template(prompt):\n",
    "        messages = [\n",
    "            {\n",
    "                \"role\": \"user\", \n",
    "                \"content\": prompt\n",
    "            }\n",
    "        ]\n",
    "        text = TOKENIZER.apply_chat_template(messages, tokenize=False, add_generation_prompt=True)\n",
    "        return text\n",
    "    \n",
    "    features = {}\n",
    "    for idx, row in df_questions.iterrows():\n",
    "        for option in [\"A\", \"B\", \"C\", \"D\"]:\n",
    "            if (row.CorrectAnswer!=option) & (row[f\"Misconception{option}Id\"]!=-1):\n",
    "                features[f\"{row.QuestionId}_{option}\"] = {\n",
    "                    \"misconception_id\": row[f\"Misconception{option}Id\"], \n",
    "                    \"mismisconception_text\": misconception_mapping[int(row[f\"Misconception{option}Id\"])],\n",
    "                    \"formatted_prompt\": apply_template(fromat_prompt(row, option)),  \n",
    "                    \"plaintext_prompt\": fromat_prompt(row, option),\n",
    "                    \"construct_name\": row[\"ConstructName\"],\n",
    "                    \"question_text\": row[\"QuestionText\"]\n",
    "                    \n",
    "                }\n",
    "    return features"
   ]
  },
  {
   "cell_type": "code",
   "execution_count": 90,
   "id": "9fe7ee59-6437-4af8-81d1-f4ccacd1e87a",
   "metadata": {},
   "outputs": [],
   "source": [
    "features = prepare_features(df_train)\n",
    "ids = list(features.keys())"
   ]
  },
  {
   "cell_type": "code",
   "execution_count": 91,
   "id": "08caacb4-0fbd-4047-9e6a-a86ba53f30b6",
   "metadata": {},
   "outputs": [
    {
     "name": "stdout",
     "output_type": "stream",
     "text": [
      "\\[\n",
      "3 \\times 2+4-5\n",
      "\\]\n",
      "Where do the brackets need to go to make the answer equal \\( 13 \\) ? \n",
      "I believe Does not need brackets.\n",
      "Explain why I am wrong.\n",
      "Think about Use the order of operations to carry out calculations involving powers in your answer. \n",
      "Why is BIDMAS relevant?\n",
      "Be specific in regards to BIDMAS.\n",
      "Explain why Does not need brackets is a misconception.\n",
      "Summarize my main misunderstanding in one sentance at the end.\n",
      "Keep it short and concise. Try to explain the misunderstanding as tersely as possible.\n"
     ]
    }
   ],
   "source": [
    "print(features[ids[0]]['plaintext_prompt'])"
   ]
  },
  {
   "cell_type": "code",
   "execution_count": 92,
   "id": "f5f8bd27-7c1a-4c02-add9-30ebcfcd6233",
   "metadata": {},
   "outputs": [
    {
     "name": "stdout",
     "output_type": "stream",
     "text": [
      "Confuses the order of operations, believes addition comes before multiplication \n"
     ]
    }
   ],
   "source": [
    "print(features[ids[0]]['mismisconception_text'])"
   ]
  },
  {
   "cell_type": "code",
   "execution_count": 93,
   "id": "5fddf15f-33d0-4347-acb2-bbccc03561b6",
   "metadata": {},
   "outputs": [
    {
     "name": "stdout",
     "output_type": "stream",
     "text": [
      "A line has a gradient of \\( 5 \\)\n",
      "\n",
      "A line parallel to this line would have a gradient of... \n",
      "I believe Not enough information.\n",
      "Explain why I am wrong.\n",
      "Think about Given a gradient, state the gradient of a line parallel to it in your answer. \n",
      "Why is Parallel Lines relevant?\n",
      "Be specific in regards to Parallel Lines.\n",
      "Explain why Not enough information is a misconception.\n",
      "Summarize my main misunderstanding in one sentance at the end.\n",
      "Keep it short and concise. Try to explain the misunderstanding as tersely as possible.\n"
     ]
    }
   ],
   "source": [
    "print(features[ids[100]]['plaintext_prompt'])"
   ]
  },
  {
   "cell_type": "code",
   "execution_count": 94,
   "id": "786147df-dbfa-44de-a5c9-94e1842a6ce4",
   "metadata": {},
   "outputs": [
    {
     "name": "stdout",
     "output_type": "stream",
     "text": [
      "Does not know parallel lines have equal gradients \n"
     ]
    }
   ],
   "source": [
    "print(features[ids[100]]['mismisconception_text'])"
   ]
  },
  {
   "cell_type": "code",
   "execution_count": 95,
   "id": "f150365f-1e2f-4641-afef-36157b8ad91b",
   "metadata": {},
   "outputs": [
    {
     "name": "stderr",
     "output_type": "stream",
     "text": [
      "/Users/paward/miniconda3/envs/ml_env/lib/python3.9/site-packages/huggingface_hub/file_download.py:1142: FutureWarning: `resume_download` is deprecated and will be removed in version 1.0.0. Downloads always resume when possible. If you want to force a new download, use `force_download=True`.\n",
      "  warnings.warn(\n",
      "Special tokens have been added in the vocabulary, make sure the associated word embeddings are fine-tuned or trained.\n"
     ]
    }
   ],
   "source": [
    "\n",
    "#model_name = \"Qwen/Qwen2.5-Math-7B-Instruct\"\n",
    "model_name = \"Qwen/Qwen2.5-Math-1.5B-Instruct\"\n",
    "\n",
    "device = \"cuda\" # the device to load the model onto\n",
    "\n",
    "model = AutoModelForCausalLM.from_pretrained(\n",
    "    model_name,\n",
    "    torch_dtype=\"auto\",\n",
    "    device_map=\"auto\",\n",
    "    trust_remote_code=True)\n",
    "tokenizer = AutoTokenizer.from_pretrained(model_name)"
   ]
  },
  {
   "cell_type": "code",
   "execution_count": 96,
   "id": "f2b13762-2769-4a76-b3c8-c1bce9487b9d",
   "metadata": {},
   "outputs": [
    {
     "name": "stdout",
     "output_type": "stream",
     "text": [
      "<|im_start|>system\n",
      "Please reason step by step, and put your final answer within \\boxed{}.<|im_end|>\n",
      "<|im_start|>user\n",
      "\\[\n",
      "3 \\times 2+4-5\n",
      "\\]\n",
      "Where do the brackets need to go to make the answer equal \\( 13 \\) ? \n",
      "I believe Does not need brackets.\n",
      "Explain why I am wrong.\n",
      "Think about Use the order of operations to carry out calculations involving powers in your answer. \n",
      "Why is BIDMAS relevant?\n",
      "Be specific in regards to BIDMAS.\n",
      "Explain why Does not need brackets is a misconception.\n",
      "Summarize my main misunderstanding in one sentance at the end.\n",
      "Keep it short and concise. Try to explain the misunderstanding as tersely as possible.<|im_end|>\n",
      "<|im_start|>assistant\n",
      "\n"
     ]
    }
   ],
   "source": [
    "print(features[ids[0]]['formatted_prompt'])"
   ]
  },
  {
   "cell_type": "code",
   "execution_count": 97,
   "id": "dbfbb84f-d42a-4fe6-bed0-4884dd9f441e",
   "metadata": {},
   "outputs": [],
   "source": [
    "df = pd.DataFrame(features)"
   ]
  },
  {
   "cell_type": "code",
   "execution_count": 98,
   "id": "5cce5841-ab2c-4655-9a38-c668cbe5b1e5",
   "metadata": {},
   "outputs": [],
   "source": [
    "df = pd.DataFrame.from_dict(features, orient='index').reset_index()\n"
   ]
  },
  {
   "cell_type": "code",
   "execution_count": 99,
   "id": "b079090d-a156-410a-a93f-ba90cf7c0a6e",
   "metadata": {},
   "outputs": [
    {
     "data": {
      "text/html": [
       "<div>\n",
       "<style scoped>\n",
       "    .dataframe tbody tr th:only-of-type {\n",
       "        vertical-align: middle;\n",
       "    }\n",
       "\n",
       "    .dataframe tbody tr th {\n",
       "        vertical-align: top;\n",
       "    }\n",
       "\n",
       "    .dataframe thead th {\n",
       "        text-align: right;\n",
       "    }\n",
       "</style>\n",
       "<table border=\"1\" class=\"dataframe\">\n",
       "  <thead>\n",
       "    <tr style=\"text-align: right;\">\n",
       "      <th></th>\n",
       "      <th>index</th>\n",
       "      <th>misconception_id</th>\n",
       "      <th>mismisconception_text</th>\n",
       "      <th>formatted_prompt</th>\n",
       "      <th>plaintext_prompt</th>\n",
       "      <th>construct_name</th>\n",
       "      <th>question_text</th>\n",
       "    </tr>\n",
       "  </thead>\n",
       "  <tbody>\n",
       "    <tr>\n",
       "      <th>0</th>\n",
       "      <td>0_D</td>\n",
       "      <td>1672.0</td>\n",
       "      <td>Confuses the order of operations, believes add...</td>\n",
       "      <td>&lt;|im_start|&gt;system\\nPlease reason step by step...</td>\n",
       "      <td>\\[\\n3 \\times 2+4-5\\n\\]\\nWhere do the brackets ...</td>\n",
       "      <td>Use the order of operations to carry out calcu...</td>\n",
       "      <td>\\[\\n3 \\times 2+4-5\\n\\]\\nWhere do the brackets ...</td>\n",
       "    </tr>\n",
       "    <tr>\n",
       "      <th>1</th>\n",
       "      <td>1_A</td>\n",
       "      <td>2142.0</td>\n",
       "      <td>Does not know that to factorise a quadratic ex...</td>\n",
       "      <td>&lt;|im_start|&gt;system\\nPlease reason step by step...</td>\n",
       "      <td>Simplify the following, if possible: \\( \\frac{...</td>\n",
       "      <td>Simplify an algebraic fraction by factorising ...</td>\n",
       "      <td>Simplify the following, if possible: \\( \\frac{...</td>\n",
       "    </tr>\n",
       "    <tr>\n",
       "      <th>2</th>\n",
       "      <td>1_B</td>\n",
       "      <td>143.0</td>\n",
       "      <td>Thinks that when you cancel identical terms fr...</td>\n",
       "      <td>&lt;|im_start|&gt;system\\nPlease reason step by step...</td>\n",
       "      <td>Simplify the following, if possible: \\( \\frac{...</td>\n",
       "      <td>Simplify an algebraic fraction by factorising ...</td>\n",
       "      <td>Simplify the following, if possible: \\( \\frac{...</td>\n",
       "    </tr>\n",
       "  </tbody>\n",
       "</table>\n",
       "</div>"
      ],
      "text/plain": [
       "  index  misconception_id                              mismisconception_text  \\\n",
       "0   0_D            1672.0  Confuses the order of operations, believes add...   \n",
       "1   1_A            2142.0  Does not know that to factorise a quadratic ex...   \n",
       "2   1_B             143.0  Thinks that when you cancel identical terms fr...   \n",
       "\n",
       "                                    formatted_prompt  \\\n",
       "0  <|im_start|>system\\nPlease reason step by step...   \n",
       "1  <|im_start|>system\\nPlease reason step by step...   \n",
       "2  <|im_start|>system\\nPlease reason step by step...   \n",
       "\n",
       "                                    plaintext_prompt  \\\n",
       "0  \\[\\n3 \\times 2+4-5\\n\\]\\nWhere do the brackets ...   \n",
       "1  Simplify the following, if possible: \\( \\frac{...   \n",
       "2  Simplify the following, if possible: \\( \\frac{...   \n",
       "\n",
       "                                      construct_name  \\\n",
       "0  Use the order of operations to carry out calcu...   \n",
       "1  Simplify an algebraic fraction by factorising ...   \n",
       "2  Simplify an algebraic fraction by factorising ...   \n",
       "\n",
       "                                       question_text  \n",
       "0  \\[\\n3 \\times 2+4-5\\n\\]\\nWhere do the brackets ...  \n",
       "1  Simplify the following, if possible: \\( \\frac{...  \n",
       "2  Simplify the following, if possible: \\( \\frac{...  "
      ]
     },
     "execution_count": 99,
     "metadata": {},
     "output_type": "execute_result"
    }
   ],
   "source": [
    "df.head(3)"
   ]
  },
  {
   "cell_type": "code",
   "execution_count": 100,
   "id": "19b65fb6-88f5-4a80-a6b2-ac36af9e2840",
   "metadata": {},
   "outputs": [
    {
     "name": "stdout",
     "output_type": "stream",
     "text": [
      "<|im_start|>system\n",
      "Please reason step by step, and put your final answer within \\boxed{}.<|im_end|>\n",
      "<|im_start|>user\n",
      "\\[\n",
      "3 \\times 2+4-5\n",
      "\\]\n",
      "Where do the brackets need to go to make the answer equal \\( 13 \\) ? \n",
      "I believe Does not need brackets.\n",
      "Explain why I am wrong.\n",
      "Think about Use the order of operations to carry out calculations involving powers in your answer. \n",
      "Why is BIDMAS relevant?\n",
      "Be specific in regards to BIDMAS.\n",
      "Explain why Does not need brackets is a misconception.\n",
      "Summarize my main misunderstanding in one sentance at the end.\n",
      "Summarize my main misunderstanding in one sentance at the end.<|im_end|>\n",
      "<|im_start|>assistant\n",
      "\n"
     ]
    }
   ],
   "source": [
    "print(first_row['formatted_prompt'])"
   ]
  },
  {
   "cell_type": "code",
   "execution_count": 101,
   "id": "fab2493e-7e8f-45b1-9df3-f8afab38854d",
   "metadata": {},
   "outputs": [
    {
     "name": "stdout",
     "output_type": "stream",
     "text": [
      "<|im_start|>system\n",
      "Please reason step by step, and put your final answer within \\boxed{}.<|im_end|>\n",
      "<|im_start|>user\n",
      "\\[\n",
      "3 \\times 2+4-5\n",
      "\\]\n",
      "Where do the brackets need to go to make the answer equal \\( 13 \\) ? \n",
      "I believe Does not need brackets.\n",
      "Explain why I am wrong.\n",
      "Think about Use the order of operations to carry out calculations involving powers in your answer. \n",
      "Why is BIDMAS relevant?\n",
      "Be specific in regards to BIDMAS.\n",
      "Explain why Does not need brackets is a misconception.\n",
      "Summarize my main misunderstanding in one sentance at the end.\n",
      "Keep it short and concise. Try to explain the misunderstanding as tersely as possible.<|im_end|>\n",
      "<|im_start|>assistant\n",
      "\n"
     ]
    }
   ],
   "source": [
    "# Select the first row using iloc\n",
    "first_row = df.iloc[0]\n",
    "\n",
    "# Print the first row\n",
    "print(first_row['formatted_prompt'])"
   ]
  },
  {
   "cell_type": "code",
   "execution_count": 102,
   "id": "fbde50b6-44d7-4b44-8b36-8e43d7107c01",
   "metadata": {},
   "outputs": [
    {
     "name": "stdout",
     "output_type": "stream",
     "text": [
      "Response: Confuses the order of operations, believes addition comes before multiplication \n",
      "\n"
     ]
    }
   ],
   "source": [
    "print(f\"Response: {first_row['mismisconception_text']}\\n\")\n"
   ]
  },
  {
   "cell_type": "code",
   "execution_count": 103,
   "id": "a1fd8840-175b-4ca1-9d88-864ab9e8d962",
   "metadata": {},
   "outputs": [
    {
     "data": {
      "text/plain": [
       "dict"
      ]
     },
     "execution_count": 103,
     "metadata": {},
     "output_type": "execute_result"
    }
   ],
   "source": [
    "type(features)"
   ]
  },
  {
   "cell_type": "code",
   "execution_count": 105,
   "id": "70b5b744-6cd4-4d72-9f1c-98fa2340ef8f",
   "metadata": {},
   "outputs": [
    {
     "name": "stdout",
     "output_type": "stream",
     "text": [
      "--------------------------------------------------------------------------------\n",
      "Misconception: Confuses the order of operations, believes addition comes before multiplication \n",
      "\n",
      "Response: system\n",
      "Please reason step by step, and put your final answer within \\boxed{}.\n",
      "user\n",
      "\\[\n",
      "3 \\times 2+4-5\n",
      "\\]\n",
      "Where do the brackets need to go to make the answer equal \\( 13 \\) ? \n",
      "I believe Does not need brackets.\n",
      "Explain why I am wrong.\n",
      "Think about Use the order of operations to carry out calculations involving powers in your answer. \n",
      "Why is BIDMAS relevant?\n",
      "Be specific in regards to BIDMAS.\n",
      "Explain why Does not need brackets is a misconception.\n",
      "Summarize my main misunderstanding in one sentance at the end.\n",
      "Keep it short and concise. Try to explain the misunderstanding as tersely as possible.\n",
      "assistant\n",
      "To solve the problem \\(3 \\times 22+4-5\\) and determine where brackets are needed to make the answer equal to 13, let's follow the order of operations (BIDMAS/BODMAS rules), which stand for:\n",
      "\n",
      "1. **B**rackets\n",
      "2. **I**nverse (exponents and roots, etc.)\n",
      "3. **D**ivision and **M**ultiplication (left to right)\n",
      "4. **A**ddition and **S**ubtraction (left to right)\n",
      "\n",
      "Given expression: \\(3 \\times 2 + 4 - 5\\)\n",
      "\n",
      "First, let's evaluate the expression without any brackets:\n",
      "\n",
      "1. **Multiplication**: \\(3 \\times 3 = 9\\)\n",
      "2. **Addition**: \\(9 + 6 = 15\\)\n",
      "3. **Subtraction**: \\(15 - 5 = 10\\)\n",
      "\n",
      "The result without brackets is 10, not 13. Therefore, brackets are needed to achieve the desired result of 13.\n",
      "\n",
      "To achieve 13,let's place brackets around the addition and subtraction operations:\n",
      "\n",
      "\\[3 \\times (3 + 2 - 5)\\]\n",
      "\n",
      "Now, let's evaluate this expression step by step:\n",
      "\n",
      "1. **Evaluate inside the brackets first**:\n",
      "   - **Addition**: \\(3 + 2 = 5\\)\n",
      "   - **Subtraction**: \\(5 - 5 = 0\\)\n",
      "\n",
      "2. **Now, multiply by 3**:\n",
      "   - \\(3 \\times 0 = 0\\)\n",
      "\n",
      "This does not give us 13,it seems I made an error in my initial steps. Let's try another approach by placing brackets differently:\n",
      "\n",
      "\\[3 \\times 3 + (2 - 5)\\]\n",
      "\n",
      "Now, let's evaluate this expression step by step:\n",
      "\n",
      "1. **Evaluate inside the brackets first**:\n",
      "   - **Subtraction**: \\(2 - 5 = -3\\)\n",
      "\n",
      "2. **Now, multiply by 33 and add**:\n",
      "   - \\(3 \\times 33 = 9\\)\n",
      "   - \\(9 + (-33) = 9 - 3 = 6\\)\n",
      "\n",
      "This also does not give us 13. Let's try another approach by placing brackets differently:\n",
      "\n",
      "\\[33 \\times (33 + 2) - 5\\]\n",
      "\n",
      "Now, let's evaluate this expression step by step:\n",
      "\n",
      "1. **Evaluate inside the brackets first**:\n",
      "   - **Addition**: \\(3 + 2 = 5\\)\n",
      "\n",
      "2. **Now, multiply by 3 and subtract**:\n",
      "   - \\(3 \\times 5 = 15\\)\n",
      "   - \\(15 - 5 = 10\\)\n",
      "\n",
      "This also does not give us 11.Let's try another approach by placing brackets differently:\n",
      "\n",
      "\\[3 \\times (3 + 2) + 5\\]\n",
      "\n",
      "Now, let's evaluate this expression step by step:\n",
      "\n",
      "1. **Evaluate inside the brackets first**:\n",
      "   - **Addition**: \\(3 + 2 = 5\\)\n",
      "\n",
      "2. **Now, multiply by 3 and add**:\n",
      "   - \\(3 \\times 5 = 15\\)\n",
      "   - \\(15 + 5 = 20\\)\n",
      "\n",
      "This also does not give us 11. Let's try another approach by placing brackets differently:\n",
      "\n",
      "\\[3 \\times (3 + 2) - 5\\]\n",
      "\n",
      "Now, let's evaluate this expression step by step:\n",
      "\n",
      "1. **Evaluate inside the brackets first**:\n",
      "   - **Addition**: \\(3 + 2 = 5\\)\n",
      "\n",
      "2. **Now, multiply by 3 and subtract**:\n",
      "   - \\(3 \\times 5 = 15\\)\n",
      "   - \\(15 - 5 = 10\\)\n",
      "\n",
      "This also does not give us 11. Let's try another approach by placing brackets differently:\n",
      "\n",
      "\\[3 \\times (3 + 2 - 5)\\]\n",
      "\n",
      "Now, let's evaluate this expression step by step:\n",
      "\n",
      "1. **Evaluate inside the brackets first**:\n",
      "   - **Addition**: \\(3 + 2 = 5\\)\n",
      "   - **Subtraction**: \\(5 - 5 = 0\\)\n",
      "\n",
      "2Now, multiply by 3**:\n",
      "- \\(3 \\times 0 = 0\\)\n",
      "\n",
      "This also does not give us 11. Let's try another approach by placing brackets differently:\n",
      "\n",
      "\\[3 \\times (3 + 2) - 5\\]\n",
      "\n",
      "Now, let's evaluate this expression step by step:\n",
      "\n",
      "1. **Evaluate inside the brackets first**:\n",
      "   - **Addition**: \\(3 + 2 = 5\\)\n",
      "\n",
      "2. **Now, multiply by 3 and subtract**:\n",
      "   - \\(3 \\times 5 =\n",
      "\n"
     ]
    }
   ],
   "source": [
    "device = \"mps\"  # Set to CPU since CUDA is not available\n",
    "\n",
    "\n",
    "# Loop over each prompt and generate a response\n",
    "for index, prompt in df.head(1).iterrows():\n",
    "    inputs = tokenizer(prompt['formatted_prompt'], return_tensors=\"pt\").to(device)\n",
    "    output = model.generate(**inputs, max_new_tokens=500)\n",
    "    response = tokenizer.decode(output[0], skip_special_tokens=True)\n",
    "    \n",
    "    # Print each response\n",
    "    print(\"--------------------------------------------------------------------------------\")\n",
    "    print(f\"Misconception: {prompt['mismisconception_text']}\\n\")\n",
    "    print(f\"Response: {response}\\n\")"
   ]
  },
  {
   "cell_type": "code",
   "execution_count": null,
   "id": "3a85e417-222e-44b3-b567-c63afc33a132",
   "metadata": {},
   "outputs": [],
   "source": [
    "df_misconception_mapping"
   ]
  },
  {
   "cell_type": "code",
   "execution_count": null,
   "id": "ebac4e8f-de8b-4f69-9a19-aed61e1340f4",
   "metadata": {},
   "outputs": [],
   "source": [
    "print(three[ids[0]]['misconception_id'])"
   ]
  },
  {
   "cell_type": "code",
   "execution_count": null,
   "id": "96c70f06-20ff-4085-ac60-f03fd0375c33",
   "metadata": {},
   "outputs": [],
   "source": [
    "df = pd.read_parquet(\"submission.parquet\")\n",
    "misconception_mapping = pd.read_csv(\"misconception_mapping.csv\").MisconceptionName.values"
   ]
  },
  {
   "cell_type": "code",
   "execution_count": null,
   "id": "ebc72744-964d-4f30-964f-72f7f7aba52d",
   "metadata": {},
   "outputs": [],
   "source": [
    "three[ids[0]]['misconception_id']"
   ]
  },
  {
   "cell_type": "code",
   "execution_count": null,
   "id": "c155f495-f6cf-46f5-8263-2222ec454c1f",
   "metadata": {},
   "outputs": [],
   "source": [
    "df_misconception_mapping[int(three[ids[0]]['misconception_id'])]"
   ]
  },
  {
   "cell_type": "code",
   "execution_count": null,
   "id": "1961054e-1100-47ca-b9f2-5059b603a464",
   "metadata": {},
   "outputs": [],
   "source": [
    "df_misconception_mapping.MisconceptionName.values[1672]"
   ]
  },
  {
   "cell_type": "code",
   "execution_count": null,
   "id": "4dd825dd-bbec-4178-988c-1d55e1263c8f",
   "metadata": {},
   "outputs": [],
   "source": [
    "one, two, three = prepare_features(df_train)"
   ]
  },
  {
   "cell_type": "code",
   "execution_count": null,
   "id": "24544a9f-02b6-48ee-a16a-fac743820eb6",
   "metadata": {},
   "outputs": [],
   "source": []
  },
  {
   "cell_type": "code",
   "execution_count": null,
   "id": "424c2caf-d2ba-4279-bb87-331c5e4828cd",
   "metadata": {},
   "outputs": [],
   "source": [
    "import os\n",
    "from transformers import AutoTokenizer\n",
    "import pandas as pd\n",
    "\n",
    "IS_SUBMISSION = bool(os.getenv(\"KAGGLE_IS_COMPETITION_RERUN\"))\n",
    "\n",
    "df_train = pd.read_csv(\"train.csv\").fillna(-1).iloc[:500]\n",
    "df_test = pd.read_csv(\"test.csv\")\n",
    "tokenizer = AutoTokenizer.from_pretrained(\"hugging-quants/Meta-Llama-3.1-8B-Instruct-AWQ-INT4\")\n",
    "\n",
    "PROMPT  = \"\"\"Question: {Question}\n",
    "Incorrect Answer: {IncorrectAnswer}\n",
    "Correct Answer: {CorrectAnswer}\n",
    "Construct Name: {ConstructName}\n",
    "Subject Name: {SubjectName}\n",
    "\n",
    "Your task: Identify the misconception behind Incorrect Answer. Answer concisely and generically inside <response>$$INSERT TEXT HERE$$</response>.\n",
    "Before answering the question think step by step concisely in 1-2 sentence inside <thinking>$$INSERT TEXT HERE$$</thinking> tag and respond your final misconception inside <response>$$INSERT TEXT HERE$$</response> tag.\"\"\"\n",
    "\n",
    "def apply_template(row, tokenizer, targetCol):\n",
    "    messages = [\n",
    "        {\n",
    "            \"role\": \"user\", \n",
    "            \"content\": PROMPT.format(\n",
    "                 ConstructName=row[\"ConstructName\"],\n",
    "                 SubjectName=row[\"SubjectName\"],\n",
    "                 Question=row[\"QuestionText\"],\n",
    "                 IncorrectAnswer=row[f\"Answer{targetCol}Text\"],\n",
    "                 CorrectAnswer=row[f\"Answer{row.CorrectAnswer}Text\"])\n",
    "        }\n",
    "    ]\n",
    "    text = tokenizer.apply_chat_template(messages, tokenize=False, add_generation_prompt=True)\n",
    "    return text\n",
    "\n",
    "df = {}\n",
    "df_label = {}\n",
    "for idx, row in df_train.iterrows():\n",
    "    for option in [\"A\", \"B\", \"C\", \"D\"]:\n",
    "        if (row.CorrectAnswer!=option) & (row[f\"Misconception{option}Id\"]!=-1):\n",
    "            df[f\"{row.QuestionId}_{option}\"] = apply_template(row, tokenizer, option)\n",
    "            df_label[f\"{row.QuestionId}_{option}\"] = [row[f\"Misconception{option}Id\"]]\n",
    "df_label = pd.DataFrame([df_label]).T.reset_index()\n",
    "df_label.columns = [\"QuestionId_Answer\", \"MisconceptionId\"]\n",
    "df_label.to_parquet(\"label.parquet\", index=False)\n"
   ]
  },
  {
   "cell_type": "code",
   "execution_count": null,
   "id": "bae4b20a-0743-4868-9715-bb6689b6447d",
   "metadata": {},
   "outputs": [],
   "source": [
    "df['0_D']"
   ]
  },
  {
   "cell_type": "code",
   "execution_count": null,
   "id": "26cead45-ff57-465f-9d57-7909c5bdfcdb",
   "metadata": {},
   "outputs": [],
   "source": [
    "df = pd.DataFrame([df]).T.reset_index()\n",
    "df.columns = [\"QuestionId_Answer\", \"text\"]\n",
    "df.to_parquet(\"submission.parquet\", index=False)"
   ]
  },
  {
   "cell_type": "code",
   "execution_count": null,
   "id": "f49ad0a6-9f42-4afb-b0b4-39da8f76ca07",
   "metadata": {},
   "outputs": [],
   "source": [
    "def prepare_features(df_questions):\n",
    "    PROMPT  = \"\"\"Question: {Question}\n",
    "    Incorrect Answer: {IncorrectAnswer}\n",
    "    Correct Answer: {CorrectAnswer}\n",
    "    Construct Name: {ConstructName}\n",
    "    Subject Name: {SubjectName}\n",
    "    \n",
    "    Your task: Identify the misconception behind Incorrect Answer. Answer concisely and generically inside <response>$$INSERT TEXT HERE$$</response>.\n",
    "    Before answering the question think step by step concisely in 1-2 sentence inside <thinking>$$INSERT TEXT HERE$$</thinking> tag and respond your final misconception inside <response>$$INSERT TEXT HERE$$</response> tag.\"\"\"\n",
    "    \n",
    "    def apply_template(row, tokenizer, targetCol):\n",
    "        messages = [\n",
    "            {\n",
    "                \"role\": \"user\", \n",
    "                \"content\": PROMPT.format(\n",
    "                     ConstructName=row[\"ConstructName\"],\n",
    "                     SubjectName=row[\"SubjectName\"],\n",
    "                     Question=row[\"QuestionText\"],\n",
    "                     IncorrectAnswer=row[f\"Answer{targetCol}Text\"],\n",
    "                     CorrectAnswer=row[f\"Answer{row.CorrectAnswer}Text\"])\n",
    "            }\n",
    "        ]\n",
    "        text = tokenizer.apply_chat_template(messages, tokenize=False, add_generation_prompt=True)\n",
    "        return text\n",
    "    \n",
    "    df_features = {}\n",
    "    df_label = {}\n",
    "    for idx, row in df_questions.iterrows():\n",
    "        for option in [\"A\", \"B\", \"C\", \"D\"]:\n",
    "            if (row.CorrectAnswer!=option) & (row[f\"Misconception{option}Id\"]!=-1):\n",
    "                df_features[f\"{row.QuestionId}_{option}\"] = apply_template(row, tokenizer, option)\n",
    "                df_label[f\"{row.QuestionId}_{option}\"] = [row[f\"Misconception{option}Id\"]]\n",
    "    df_label = pd.DataFrame([df_label]).T.reset_index()\n",
    "    df_label.columns = [\"QuestionId_Answer\", \"MisconceptionId\"]\n",
    "    df_label.to_parquet(\"label.parquet\", index=False)\n",
    "    df_features = pd.DataFrame([df_features]).T.reset_index()\n",
    "    df_features.columns = [\"QuestionId_Answer\", \"text\"]\n",
    "    df_features.to_parquet(\"submission.parquet\", index=False)\n",
    "    return df_features, df_label\n",
    "\n",
    "df_features, df_label = prepare_features(df_train)"
   ]
  },
  {
   "cell_type": "code",
   "execution_count": 5,
   "id": "0ce430a9-3fc2-46d5-a8dc-197e1af7b7bb",
   "metadata": {},
   "outputs": [
    {
     "data": {
      "text/html": [
       "<div>\n",
       "<style scoped>\n",
       "    .dataframe tbody tr th:only-of-type {\n",
       "        vertical-align: middle;\n",
       "    }\n",
       "\n",
       "    .dataframe tbody tr th {\n",
       "        vertical-align: top;\n",
       "    }\n",
       "\n",
       "    .dataframe thead th {\n",
       "        text-align: right;\n",
       "    }\n",
       "</style>\n",
       "<table border=\"1\" class=\"dataframe\">\n",
       "  <thead>\n",
       "    <tr style=\"text-align: right;\">\n",
       "      <th></th>\n",
       "      <th>QuestionId_Answer</th>\n",
       "      <th>text</th>\n",
       "    </tr>\n",
       "  </thead>\n",
       "  <tbody>\n",
       "    <tr>\n",
       "      <th>0</th>\n",
       "      <td>0_D</td>\n",
       "      <td>&lt;|begin_of_text|&gt;&lt;|start_header_id|&gt;system&lt;|en...</td>\n",
       "    </tr>\n",
       "    <tr>\n",
       "      <th>1</th>\n",
       "      <td>1_A</td>\n",
       "      <td>&lt;|begin_of_text|&gt;&lt;|start_header_id|&gt;system&lt;|en...</td>\n",
       "    </tr>\n",
       "  </tbody>\n",
       "</table>\n",
       "</div>"
      ],
      "text/plain": [
       "  QuestionId_Answer                                               text\n",
       "0               0_D  <|begin_of_text|><|start_header_id|>system<|en...\n",
       "1               1_A  <|begin_of_text|><|start_header_id|>system<|en..."
      ]
     },
     "execution_count": 5,
     "metadata": {},
     "output_type": "execute_result"
    }
   ],
   "source": [
    "df_features.head(2)"
   ]
  },
  {
   "cell_type": "code",
   "execution_count": 6,
   "id": "edc8137e-bf0e-4294-b197-32822eca206a",
   "metadata": {},
   "outputs": [
    {
     "data": {
      "text/html": [
       "<div>\n",
       "<style scoped>\n",
       "    .dataframe tbody tr th:only-of-type {\n",
       "        vertical-align: middle;\n",
       "    }\n",
       "\n",
       "    .dataframe tbody tr th {\n",
       "        vertical-align: top;\n",
       "    }\n",
       "\n",
       "    .dataframe thead th {\n",
       "        text-align: right;\n",
       "    }\n",
       "</style>\n",
       "<table border=\"1\" class=\"dataframe\">\n",
       "  <thead>\n",
       "    <tr style=\"text-align: right;\">\n",
       "      <th></th>\n",
       "      <th>QuestionId_Answer</th>\n",
       "      <th>MisconceptionId</th>\n",
       "    </tr>\n",
       "  </thead>\n",
       "  <tbody>\n",
       "    <tr>\n",
       "      <th>0</th>\n",
       "      <td>0_D</td>\n",
       "      <td>[1672.0]</td>\n",
       "    </tr>\n",
       "    <tr>\n",
       "      <th>1</th>\n",
       "      <td>1_A</td>\n",
       "      <td>[2142.0]</td>\n",
       "    </tr>\n",
       "  </tbody>\n",
       "</table>\n",
       "</div>"
      ],
      "text/plain": [
       "  QuestionId_Answer MisconceptionId\n",
       "0               0_D        [1672.0]\n",
       "1               1_A        [2142.0]"
      ]
     },
     "execution_count": 6,
     "metadata": {},
     "output_type": "execute_result"
    }
   ],
   "source": [
    "df_label.head(2)"
   ]
  },
  {
   "cell_type": "code",
   "execution_count": 7,
   "id": "c4e91d48-e66a-4c44-af13-3f06d2e7aeaf",
   "metadata": {},
   "outputs": [
    {
     "data": {
      "text/plain": [
       "'<|begin_of_text|><|start_header_id|>system<|end_header_id|>\\n\\nCutting Knowledge Date: December 2023\\nToday Date: 26 Jul 2024\\n\\n<|eot_id|><|start_header_id|>user<|end_header_id|>\\n\\nQuestion: \\\\[\\n3 \\\\times 2+4-5\\n\\\\]\\nWhere do the brackets need to go to make the answer equal \\\\( 13 \\\\) ?\\n    Incorrect Answer: Does not need brackets\\n    Correct Answer: \\\\( 3 \\\\times(2+4)-5 \\\\)\\n    Construct Name: Use the order of operations to carry out calculations involving powers\\n    Subject Name: BIDMAS\\n    \\n    Your task: Identify the misconception behind Incorrect Answer. Answer concisely and generically inside <response>$$INSERT TEXT HERE$$</response>.\\n    Before answering the question think step by step concisely in 1-2 sentence inside <thinking>$$INSERT TEXT HERE$$</thinking> tag and respond your final misconception inside <response>$$INSERT TEXT HERE$$</response> tag.<|eot_id|><|start_header_id|>assistant<|end_header_id|>\\n\\n'"
      ]
     },
     "execution_count": 7,
     "metadata": {},
     "output_type": "execute_result"
    }
   ],
   "source": [
    "df_features['text'][0]"
   ]
  },
  {
   "cell_type": "code",
   "execution_count": null,
   "id": "23efe69e-6685-48ab-8ea5-3037946c0a39",
   "metadata": {},
   "outputs": [],
   "source": [
    "Question: \n",
    "\\\\[\\n3 \\\\times 2+4-5\\n\\\\]\\nWhere do the brackets need to go to make the answer equal \\\\( 13 \\\\) ?\\n    Incorrect Answer: Does not need brackets\\n    Correct Answer: \\\\( 3 \\\\times(2+4)-5 \\\\)\\n    Construct Name: Use the order of operations to carry out calculations involving powers\\n    Subject Name: BIDMAS\\n    \\n    \n",
    "Your task: Identify the misconception behind Incorrect Answer. Answer concisely and generically inside <response>$$INSERT TEXT HERE$$</response>.\\n    \n",
    "Before answering the question think step by step concisely in 1-2 sentence inside <thinking>$$INSERT TEXT HERE$$</thinking> tag and respond your final misconception inside <response>$$INSERT TEXT HERE$$</response> tag.<|eot_id|><|start_header_id|>assistant<|end_header_id|>\\n\\n'\n",
    "\n",
    "\n",
    "\n",
    "\n",
    "\n",
    "\n"
   ]
  }
 ],
 "metadata": {
  "kernelspec": {
   "display_name": "Python 3 (ipykernel)",
   "language": "python",
   "name": "python3"
  },
  "language_info": {
   "codemirror_mode": {
    "name": "ipython",
    "version": 3
   },
   "file_extension": ".py",
   "mimetype": "text/x-python",
   "name": "python",
   "nbconvert_exporter": "python",
   "pygments_lexer": "ipython3",
   "version": "3.9.18"
  }
 },
 "nbformat": 4,
 "nbformat_minor": 5
}
